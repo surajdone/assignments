{
 "cells": [
  {
   "cell_type": "code",
   "execution_count": 1,
   "id": "afdb9913-413c-4e7c-a527-8a5dfba1cb16",
   "metadata": {},
   "outputs": [],
   "source": [
    "# Q1. Create a Pandas Series that contains the following data: 4, 8, 15, 16, 23, and 42. Then, print the series."
   ]
  },
  {
   "cell_type": "code",
   "execution_count": 2,
   "id": "e32f05a4-8732-478a-a1e7-1ad571cd3a12",
   "metadata": {},
   "outputs": [],
   "source": [
    "import pandas as pd"
   ]
  },
  {
   "cell_type": "code",
   "execution_count": 3,
   "id": "bf3d8d42-7ba1-4eb4-9c41-02ef8b6e42c2",
   "metadata": {},
   "outputs": [],
   "source": [
    "l=[4,8,15,16,23,42]"
   ]
  },
  {
   "cell_type": "code",
   "execution_count": 7,
   "id": "64926f07-828b-40d0-9d48-e8044d6d0f3c",
   "metadata": {},
   "outputs": [],
   "source": [
    "df=pd.Series(l)"
   ]
  },
  {
   "cell_type": "code",
   "execution_count": 8,
   "id": "c788a764-008c-4d06-8657-e8a96f29ec53",
   "metadata": {},
   "outputs": [
    {
     "data": {
      "text/plain": [
       "0     4\n",
       "1     8\n",
       "2    15\n",
       "3    16\n",
       "4    23\n",
       "5    42\n",
       "dtype: int64"
      ]
     },
     "execution_count": 8,
     "metadata": {},
     "output_type": "execute_result"
    }
   ],
   "source": [
    "df"
   ]
  },
  {
   "cell_type": "code",
   "execution_count": 9,
   "id": "a9b3591a-9d7c-4661-9825-a29e76c8fba7",
   "metadata": {},
   "outputs": [
    {
     "data": {
      "text/plain": [
       "pandas.core.series.Series"
      ]
     },
     "execution_count": 9,
     "metadata": {},
     "output_type": "execute_result"
    }
   ],
   "source": [
    "type(df)"
   ]
  },
  {
   "cell_type": "code",
   "execution_count": null,
   "id": "cbeff9f6-1c96-451d-81d3-36f794b2eb67",
   "metadata": {},
   "outputs": [],
   "source": []
  },
  {
   "cell_type": "code",
   "execution_count": 10,
   "id": "70d0a2cb-78ad-4d21-b041-483354bbcd90",
   "metadata": {},
   "outputs": [],
   "source": [
    "# Q2. Create a variable of list type containing 10 elements in it, and apply pandas.Series function on the\n",
    "# variable print it."
   ]
  },
  {
   "cell_type": "code",
   "execution_count": 11,
   "id": "95632fa4-b6ac-4a8d-822a-1c64a4bed578",
   "metadata": {},
   "outputs": [],
   "source": [
    "l1=[1,2,3,4,5,6,7,8,9,10]"
   ]
  },
  {
   "cell_type": "code",
   "execution_count": 12,
   "id": "574fc2e0-7302-4e85-b595-eb97f43cc349",
   "metadata": {},
   "outputs": [],
   "source": [
    "import pandas as pd"
   ]
  },
  {
   "cell_type": "code",
   "execution_count": 13,
   "id": "9b6fc787-a6a7-4bda-93f4-09b2f6de4141",
   "metadata": {},
   "outputs": [],
   "source": [
    "file=pd.Series(l1)"
   ]
  },
  {
   "cell_type": "code",
   "execution_count": 14,
   "id": "5f2f0fef-a43c-444e-8c23-03fabd62ca25",
   "metadata": {},
   "outputs": [
    {
     "data": {
      "text/plain": [
       "0     1\n",
       "1     2\n",
       "2     3\n",
       "3     4\n",
       "4     5\n",
       "5     6\n",
       "6     7\n",
       "7     8\n",
       "8     9\n",
       "9    10\n",
       "dtype: int64"
      ]
     },
     "execution_count": 14,
     "metadata": {},
     "output_type": "execute_result"
    }
   ],
   "source": [
    "file"
   ]
  },
  {
   "cell_type": "code",
   "execution_count": 15,
   "id": "3fdab4e8-790a-4cab-93fd-8aa3d10e5e65",
   "metadata": {},
   "outputs": [
    {
     "data": {
      "text/plain": [
       "pandas.core.series.Series"
      ]
     },
     "execution_count": 15,
     "metadata": {},
     "output_type": "execute_result"
    }
   ],
   "source": [
    "type(file)"
   ]
  },
  {
   "cell_type": "code",
   "execution_count": null,
   "id": "5dafd275-07b4-4f6c-ad6f-9e7ba1f590af",
   "metadata": {},
   "outputs": [],
   "source": []
  },
  {
   "cell_type": "code",
   "execution_count": 16,
   "id": "cb4f745c-f40f-4c30-a2d2-c7ab528e8d21",
   "metadata": {},
   "outputs": [],
   "source": [
    "# Q3. Create a Pandas DataFrame that contains the following data:"
   ]
  },
  {
   "cell_type": "code",
   "execution_count": 17,
   "id": "853ff762-38ca-4740-8664-ba02409704d3",
   "metadata": {},
   "outputs": [],
   "source": [
    "import pandas as pd"
   ]
  },
  {
   "cell_type": "code",
   "execution_count": 19,
   "id": "f3b52cf8-0d14-4315-b122-0771aa3e3f17",
   "metadata": {},
   "outputs": [],
   "source": [
    "data={\n",
    "    \"name\":[\"Suraj\",\"Vaibhav\",\"Sumant\"],\n",
    "    \"age\":[23,20,22],\n",
    "    \"gender\":[\"male\",\"make\",\"male\"]\n",
    "\n",
    "}\n",
    "\n",
    "mydataset=pd.DataFrame(data)"
   ]
  },
  {
   "cell_type": "code",
   "execution_count": 20,
   "id": "e98b9b8a-8f90-47ad-882e-b9945f843239",
   "metadata": {},
   "outputs": [
    {
     "data": {
      "text/html": [
       "<div>\n",
       "<style scoped>\n",
       "    .dataframe tbody tr th:only-of-type {\n",
       "        vertical-align: middle;\n",
       "    }\n",
       "\n",
       "    .dataframe tbody tr th {\n",
       "        vertical-align: top;\n",
       "    }\n",
       "\n",
       "    .dataframe thead th {\n",
       "        text-align: right;\n",
       "    }\n",
       "</style>\n",
       "<table border=\"1\" class=\"dataframe\">\n",
       "  <thead>\n",
       "    <tr style=\"text-align: right;\">\n",
       "      <th></th>\n",
       "      <th>name</th>\n",
       "      <th>age</th>\n",
       "      <th>gender</th>\n",
       "    </tr>\n",
       "  </thead>\n",
       "  <tbody>\n",
       "    <tr>\n",
       "      <th>0</th>\n",
       "      <td>Suraj</td>\n",
       "      <td>23</td>\n",
       "      <td>male</td>\n",
       "    </tr>\n",
       "    <tr>\n",
       "      <th>1</th>\n",
       "      <td>Vaibhav</td>\n",
       "      <td>20</td>\n",
       "      <td>make</td>\n",
       "    </tr>\n",
       "    <tr>\n",
       "      <th>2</th>\n",
       "      <td>Sumant</td>\n",
       "      <td>22</td>\n",
       "      <td>male</td>\n",
       "    </tr>\n",
       "  </tbody>\n",
       "</table>\n",
       "</div>"
      ],
      "text/plain": [
       "      name  age gender\n",
       "0    Suraj   23   male\n",
       "1  Vaibhav   20   make\n",
       "2   Sumant   22   male"
      ]
     },
     "execution_count": 20,
     "metadata": {},
     "output_type": "execute_result"
    }
   ],
   "source": [
    "mydataset"
   ]
  },
  {
   "cell_type": "code",
   "execution_count": 21,
   "id": "57941a7a-d210-49d8-9b67-86fb8b5a0f97",
   "metadata": {},
   "outputs": [
    {
     "data": {
      "text/plain": [
       "pandas.core.frame.DataFrame"
      ]
     },
     "execution_count": 21,
     "metadata": {},
     "output_type": "execute_result"
    }
   ],
   "source": [
    "type(mydataset)"
   ]
  },
  {
   "cell_type": "code",
   "execution_count": null,
   "id": "a7899869-4e78-4a5a-b20f-24a115ff6632",
   "metadata": {},
   "outputs": [],
   "source": []
  },
  {
   "cell_type": "code",
   "execution_count": 22,
   "id": "619977e1-f7e5-4d0b-b361-54da674ae3d2",
   "metadata": {},
   "outputs": [],
   "source": [
    "# Q4. What is ‘DataFrame’ in pandas and how is it different from pandas.series? Explain with an example."
   ]
  },
  {
   "cell_type": "code",
   "execution_count": 23,
   "id": "cf7716a6-cf82-4dec-8b96-918d3e36a5d4",
   "metadata": {},
   "outputs": [
    {
     "data": {
      "text/plain": [
       "'dataframe in pandas in pandas is a data type we can read csv files and text files in pandas in easy manner \\nDataFrame is a combination of series or dataframe is a combination of more than a colums os combination of columns\\nEX-if we cave a car column listed diffrent types of cars just cars is series type but if we insert another column \\nita passing ,its price, its model by adding anothe column it will be a dataframe   dataframe shows in above example'"
      ]
     },
     "execution_count": 23,
     "metadata": {},
     "output_type": "execute_result"
    }
   ],
   "source": [
    "\"\"\"dataframe in pandas in pandas is a data type we can read csv files and text files in pandas in easy manner \n",
    "DataFrame is a combination of series or dataframe is a combination of more than a colums os combination of columns\n",
    "EX-if we cave a car column listed diffrent types of cars just cars is series type but if we insert another column \n",
    "ita passing ,its price, its model by adding anothe column it will be a dataframe   dataframe shows in above example\"\"\""
   ]
  },
  {
   "cell_type": "code",
   "execution_count": 24,
   "id": "ff84d948-76ab-40e5-a0a9-526b3d9e493c",
   "metadata": {},
   "outputs": [],
   "source": [
    "#Q5. What are some common functions you can use to manipulate data in a Pandas DataFrame? Can\n",
    "# you give an example of when you might use one of these functions?"
   ]
  },
  {
   "cell_type": "code",
   "execution_count": 25,
   "id": "375e059f-48b1-48ca-ac15-3fa1dd5e6641",
   "metadata": {},
   "outputs": [
    {
     "data": {
      "text/plain": [
       "'in pandas we can simply use .head two show first 5 rows \\ntail-gives u last 5 rows\\nfillna-help to update the empty cells\\ninplace is usede to update definite possion \\ndropna function is used to drop empty rows'"
      ]
     },
     "execution_count": 25,
     "metadata": {},
     "output_type": "execute_result"
    }
   ],
   "source": [
    "\"\"\"in pandas we can simply use .head two show first 5 rows \n",
    "tail-gives u last 5 rows\n",
    "fillna-help to update the empty cells\n",
    "inplace is usede to update definite possion \n",
    "dropna function is used to drop empty rows\"\"\""
   ]
  },
  {
   "cell_type": "code",
   "execution_count": null,
   "id": "2aecbb7e-ac72-4604-ae33-57668342b5e9",
   "metadata": {},
   "outputs": [],
   "source": []
  },
  {
   "cell_type": "code",
   "execution_count": 27,
   "id": "57e3b332-d49b-43de-9299-68a5f72171f1",
   "metadata": {},
   "outputs": [],
   "source": [
    "# Q6. Which of the following is mutable in nature Series, DataFrame, Panel?"
   ]
  },
  {
   "cell_type": "code",
   "execution_count": 29,
   "id": "0d0cc174-76ae-4f22-824a-f9715ed45606",
   "metadata": {},
   "outputs": [
    {
     "data": {
      "text/plain": [
       "'Both Series and DataFrame are mutable, which means you can modify their content'"
      ]
     },
     "execution_count": 29,
     "metadata": {},
     "output_type": "execute_result"
    }
   ],
   "source": [
    "\"\"\"Both Series and DataFrame are mutable, which means you can modify their content\"\"\""
   ]
  },
  {
   "cell_type": "code",
   "execution_count": null,
   "id": "2851b2f5-c817-40c8-acf5-32cbe6a29960",
   "metadata": {},
   "outputs": [],
   "source": []
  },
  {
   "cell_type": "code",
   "execution_count": 30,
   "id": "4abdebaf-5132-4c1d-9458-5563922179f6",
   "metadata": {},
   "outputs": [],
   "source": [
    "# Q7. Create a DataFrame using multiple Series. Explain with an example."
   ]
  },
  {
   "cell_type": "code",
   "execution_count": 33,
   "id": "5d780110-d839-4bad-9898-e412a9e9c67f",
   "metadata": {},
   "outputs": [
    {
     "ename": "SyntaxError",
     "evalue": "'{' was never closed (2477621114.py, line 2)",
     "output_type": "error",
     "traceback": [
      "\u001b[0;36m  Cell \u001b[0;32mIn[33], line 2\u001b[0;36m\u001b[0m\n\u001b[0;31m    data1={\u001b[0m\n\u001b[0m          ^\u001b[0m\n\u001b[0;31mSyntaxError\u001b[0m\u001b[0;31m:\u001b[0m '{' was never closed\n"
     ]
    }
   ],
   "source": [
    "import pandas as pd\n",
    "data1={\n",
    "    \"name\":[\"Suraj\",\"done\",\"Sumant\",\"vaibhav\",\"vinod\"]\n",
    "    \"age\":[22,22,22,20,23],\n",
    "    \"roll_no\"\"[1,23,45,3,34]\n",
    "    \"city\":[\"parbhani\",\"parbhani\",\"nanded\",\"hingoli\",\"nanded\"]\n",
    "}\n",
    "dataset=pd.DataFrame(data1)"
   ]
  },
  {
   "cell_type": "code",
   "execution_count": null,
   "id": "c66a152d-ef4f-445f-9acf-faa3fc12338a",
   "metadata": {},
   "outputs": [],
   "source": []
  }
 ],
 "metadata": {
  "kernelspec": {
   "display_name": "Python 3 (ipykernel)",
   "language": "python",
   "name": "python3"
  },
  "language_info": {
   "codemirror_mode": {
    "name": "ipython",
    "version": 3
   },
   "file_extension": ".py",
   "mimetype": "text/x-python",
   "name": "python",
   "nbconvert_exporter": "python",
   "pygments_lexer": "ipython3",
   "version": "3.10.8"
  }
 },
 "nbformat": 4,
 "nbformat_minor": 5
}
